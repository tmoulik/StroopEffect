{
 "cells": [
  {
   "cell_type": "markdown",
   "metadata": {},
   "source": [
    "### Analyzing the Stroop Effect\n",
    "Perform the analysis in the space below. Remember to follow [the instructions](https://docs.google.com/document/d/1-OkpZLjG_kX9J6LIQ5IltsqMzVWjh36QpnP2RYpVdPU/pub?embedded=True) and review the [project rubric](https://review.udacity.com/#!/rubrics/71/view) before submitting. Once you've completed the analysis and write up, download this file as a PDF or HTML file and submit in the next section.\n",
    "\n",
    "\n",
    "(1) What is the independent variable? What is the dependent variable?"
   ]
  },
  {
   "cell_type": "markdown",
   "metadata": {},
   "source": [
    "The independant variable is the type of word (congruent or incongruent). The dependant variable is the time it takes to say the name of the color of the word."
   ]
  },
  {
   "cell_type": "markdown",
   "metadata": {},
   "source": [
    "(2) What is an appropriate set of hypotheses for this task? What kind of statistical test do you expect to perform? Justify your choices."
   ]
  },
  {
   "cell_type": "markdown",
   "metadata": {},
   "source": [
    "The null hypothesis is that the time taken to say the color is independent of the type of word, i.e. there is no effect on the time given any type of word. Hence the difference in their times is <=0. The alternative hypothesis is that the time to taken to read incongruent words is greater. \n",
    "\n",
    "        H0 : dt<=0\n",
    "        H1 : dt>0 \n",
    "        \n",
    "where dt is the time differene between the two types. \n",
    "I am doing a one-sided hypothesis test. The null choice is typically when there is no effect and alternative is when there is some effect. I will look at the t-test as the population standard deviation is not known and the sample size is very small, and I can reject the null hypothesis based on the t and p-value."
   ]
  },
  {
   "cell_type": "markdown",
   "metadata": {},
   "source": [
    "(3) Report some descriptive statistics regarding this dataset. Include at least one measure of central tendency and at least one measure of variability. The name of the data file is 'stroopdata.csv'."
   ]
  },
  {
   "cell_type": "code",
   "execution_count": 46,
   "metadata": {},
   "outputs": [
    {
     "name": "stdout",
     "output_type": "stream",
     "text": [
      "<class 'pandas.core.frame.DataFrame'>\n",
      "RangeIndex: 24 entries, 0 to 23\n",
      "Data columns (total 2 columns):\n",
      "Congruent      24 non-null float64\n",
      "Incongruent    24 non-null float64\n",
      "dtypes: float64(2)\n",
      "memory usage: 464.0 bytes\n",
      "14.051125000000004 22.01591666666667\n",
      "3.559357957645195 4.797057122469138\n",
      "7.964791666666667 4.864826910359056\n"
     ]
    }
   ],
   "source": [
    "import pandas as pd\n",
    "import numpy as np\n",
    "import matplotlib.pyplot as plt\n",
    "% matplotlib inline\n",
    "df = pd.read_csv(\"stroopdata.csv\")\n",
    "df.info()\n",
    "print(df['Congruent'].mean(),df['Incongruent'].mean())\n",
    "print(df['Congruent'].std(),df['Incongruent'].std())\n",
    "diffs = df['Incongruent'] - df['Congruent']\n",
    "print(diffs.mean(),diffs.std())"
   ]
  },
  {
   "cell_type": "markdown",
   "metadata": {},
   "source": [
    "The mean value of the times taken for the Congruent and Incongruent data sets are 14.0 with a standard deviation of 3.6 s and 22.0 with a standard deviation of 4.8 s resepectively. The difference in means is 8.0+-4.9 s. "
   ]
  },
  {
   "cell_type": "markdown",
   "metadata": {},
   "source": [
    "(4) Provide one or two visualizations that show the distribution of the sample data. Write one or two sentences noting what you observe about the plot or plots."
   ]
  },
  {
   "cell_type": "code",
   "execution_count": 47,
   "metadata": {},
   "outputs": [
    {
     "name": "stdout",
     "output_type": "stream",
     "text": [
      "8.63 35.255\n"
     ]
    }
   ],
   "source": [
    "hi = max(df[df.columns[0]].max(),df[df.columns[1]].max())\n",
    "low = min(df[df.columns[0]].min(),df[df.columns[1]].min())\n",
    "print(low,hi)"
   ]
  },
  {
   "cell_type": "code",
   "execution_count": 48,
   "metadata": {},
   "outputs": [
    {
     "name": "stdout",
     "output_type": "stream",
     "text": [
      "<class 'pandas.core.frame.DataFrame'>\n",
      "RangeIndex: 24 entries, 0 to 23\n",
      "Data columns (total 2 columns):\n",
      "Congruent      24 non-null float64\n",
      "Incongruent    24 non-null float64\n",
      "dtypes: float64(2)\n",
      "memory usage: 464.0 bytes\n"
     ]
    },
    {
     "data": {
      "image/png": "[encoded data removed]",
      "text/plain": [
       "<matplotlib.figure.Figure at 0x24f1e6e56a0>"
      ]
     },
     "metadata": {},
     "output_type": "display_data"
    },
    {
     "data": {
      "image/png": "[encoded data removed]",
      "text/plain": [
       "<matplotlib.figure.Figure at 0x24f1e5533c8>"
      ]
     },
     "metadata": {},
     "output_type": "display_data"
    },
    {
     "data": {
      "text/plain": [
       "(array([ 4.,  3.,  5.,  5.,  5.,  0.,  1.,  0.,  1.,  0.]),\n",
       " array([  0. ,   2.5,   5. ,   7.5,  10. ,  12.5,  15. ,  17.5,  20. ,\n",
       "         22.5,  25. ]),\n",
       " <a list of 10 Patch objects>)"
      ]
     },
     "execution_count": 48,
     "metadata": {},
     "output_type": "execute_result"
    },
    {
     "data": {
      "image/png": "[encoded data removed]",
      "text/plain": [
       "<matplotlib.figure.Figure at 0x24f1ea55a90>"
      ]
     },
     "metadata": {},
     "output_type": "display_data"
    }
   ],
   "source": [
    "df.info()\n",
    "names = df.columns\n",
    "col = ['red','blue']\n",
    "i=0\n",
    "for n in names:\n",
    "    plt.hist(df[n],bins=15,range=(5.0,35.0),color=col[i])\n",
    "    plt.xlabel('Type of word:'+n)\n",
    "    plt.ylabel('Time (in s)')\n",
    "    i=i+1\n",
    "    plt.show()\n",
    "    \n",
    "diff = df[names[1]]-df[names[0]]\n",
    "plt.hist(diff,bins=10,range=(0.0,25.0))"
   ]
  },
  {
   "cell_type": "markdown",
   "metadata": {},
   "source": [
    "The time taken on an average to read the congruent words is smaller than the time taken to read incongruent words. The mean for the top histogram is 14s while for the second histogram its about 22s.  Their difference is 8.0+-5.0 s. But our question is could we obtain this value under a null distribution, i.e. there is no difference in time. How probable is this value to come from a null distribution? So, we perform a statistical test below to test this hypothesis, and based on this we can reject or accept the null hypothesis."
   ]
  },
  {
   "cell_type": "markdown",
   "metadata": {},
   "source": [
    "(5) Now, perform the statistical test and report the results. What is the confidence level and your critical statistic value? Do you reject the null hypothesis or fail to reject it? Come to a conclusion in terms of the experiment task. Did the results match up with your expectations?"
   ]
  },
  {
   "cell_type": "code",
   "execution_count": 50,
   "metadata": {},
   "outputs": [
    {
     "name": "stdout",
     "output_type": "stream",
     "text": [
      "Observed t-value : 8.193215000970776\n",
      "Critical t Value :  1.71387152775\n",
      "p-value        : 1.42058986238e-08\n",
      "We reject the null hypothesis\n"
     ]
    }
   ],
   "source": [
    "from scipy import stats\n",
    "\n",
    "N=np.count_nonzero(diffs)\n",
    "tval = np.mean(diffs)/(np.std(diffs)/(N)**0.5)\n",
    "print('Observed t-value :',tval)\n",
    "\n",
    "#Get the critical t-value and p-value\n",
    "cl=0.95\n",
    "alph=1-cl\n",
    "ndeg=N-1\n",
    "print('Critical t Value : ',stats.t.isf(alph, ndeg))\n",
    "\n",
    "pval = stats.t.sf(tval, N-1)\n",
    "print('p-value        :',pval)\n",
    "\n",
    "if pval < alph :\n",
    "    print ('We reject the null hypothesis')"
   ]
  },
  {
   "cell_type": "markdown",
   "metadata": {},
   "source": [
    "Since the observed t-value is much larger than the critical value of 1.714, and also the pvalue is very small, much smaller than our significance level of 5%, we can reject the null hypothesis at the 95% C.L and conclude that there exists a mean time difference between reading congruent and Incongruent words. The results did match up to my expectations because it would be more difficult to read incongruent words and this is what I see"
   ]
  }
 ],
 "metadata": {
  "kernelspec": {
   "display_name": "Python 3",
   "language": "python",
   "name": "python3"
  },
  "language_info": {
   "codemirror_mode": {
    "name": "ipython",
    "version": 3
   },
   "file_extension": ".py",
   "mimetype": "text/x-python",
   "name": "python",
   "nbconvert_exporter": "python",
   "pygments_lexer": "ipython3",
   "version": "3.6.2"
  }
 },
 "nbformat": 4,
 "nbformat_minor": 2
}
